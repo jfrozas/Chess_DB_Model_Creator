{
 "cells": [
  {
   "cell_type": "code",
   "execution_count": 18,
   "metadata": {},
   "outputs": [],
   "source": [
    "from chess import *\n",
    "import chess\n",
    "import chess.pgn\n",
    "from stockfish import Stockfish\n",
    "import random\n",
    "import numpy as np\n",
    "import csv\n",
    "import pandas as pd\n"
   ]
  },
  {
   "cell_type": "code",
   "execution_count": 19,
   "metadata": {},
   "outputs": [],
   "source": [
    "def encode_board(board):\n",
    "    \"\"\"\n",
    "    Function that encodes a board into a 14x8x8 tensor\n",
    "    \"\"\"\n",
    "    # Initialize 14x8x8 matrix with all zeros\n",
    "    encoded_board = np.zeros((14, 8, 8), dtype=np.int8)\n",
    "\n",
    "    # Encode the pieces on the board\n",
    "    piece_map = {\n",
    "        chess.PAWN: 0,\n",
    "        chess.KNIGHT: 1,\n",
    "        chess.BISHOP: 2,\n",
    "        chess.ROOK: 3,\n",
    "        chess.QUEEN: 4,\n",
    "        chess.KING: 5\n",
    "    }\n",
    "    for square in chess.SQUARES:\n",
    "        piece = board.piece_at(square)\n",
    "        if piece is not None:\n",
    "            row = chess.square_rank(square)\n",
    "            column = chess.square_file(square)\n",
    "            color = int(not piece.color)\n",
    "            value = piece_map[piece.piece_type]\n",
    "            encoded_board[ color * 6 + value, ((8-row) % 8) - 1, column] = 1 #if piece.color == True else -1\n",
    "\n",
    "    #Encode the possible moves for white and black\n",
    "    aux = board.turn\n",
    "    board.turn = chess.WHITE\n",
    "\n",
    "    for move in board.legal_moves:\n",
    "        #rank_from = chess.square_rank(move.from_square)\n",
    "        #file_from = chess.square_file(move.from_square)\n",
    "        rank_to = chess.square_rank(move.to_square)\n",
    "        file_to = chess.square_file(move.to_square)\n",
    "        encoded_board[12, ((8-rank_to) % 8) - 1, file_to] = 1\n",
    "\n",
    "    board.turn = chess.BLACK\n",
    "    for move in board.legal_moves:\n",
    "        #rank_from = chess.square_rank(move.from_square)\n",
    "        #file_from = chess.square_file(move.from_square)\n",
    "        rank_to = chess.square_rank(move.to_square)\n",
    "        file_to = chess.square_file(move.to_square)\n",
    "        encoded_board[13, ((8-rank_to) % 8) - 1, file_to] = 1\n",
    "            \n",
    "    board.turn = aux    \n",
    "    return encoded_board\n",
    "\n"
   ]
  },
  {
   "cell_type": "code",
   "execution_count": 20,
   "metadata": {},
   "outputs": [],
   "source": [
    "#Manipulation of the csv\n",
    "#Only use one time on a CSV\n",
    "\n",
    "with open('chessData.csv', 'r') as file:\n",
    "\n",
    "    # Read the CSV file into a pandas dataframe\n",
    "    df = pd.read_csv(file)\n"
   ]
  },
  {
   "cell_type": "code",
   "execution_count": 21,
   "metadata": {},
   "outputs": [],
   "source": [
    "# Remove rows containing a specific character\n",
    "df = df[~df['Evaluation'].str.contains('#')]\n",
    "\n",
    "# Open the CSV file in write mode and write the updated dataframe to the file\n",
    "with open('chessData.csv', 'w', newline='') as file:\n",
    "    writer = csv.writer(file)\n",
    "    writer.writerow(df.columns)\n",
    "    writer.writerows(df.values)"
   ]
  },
  {
   "cell_type": "code",
   "execution_count": 28,
   "metadata": {},
   "outputs": [],
   "source": [
    "def database_creator(totalGames = 1000):\n",
    "    \"\"\"\n",
    "    Creates a db of two columns, a board tensor, shape 14x8x8, and its evaluation, an integer\n",
    "    Loops through a CSV file and stores it an npz file to be used in the future\n",
    "    \"\"\"\n",
    "    i = 0\n",
    "\n",
    "    a = np.zeros((totalGames, 14, 8, 8), dtype=np.int8)\n",
    "    b = np.zeros((totalGames,), dtype=np.int32)\n",
    "\n",
    "    \n",
    "    with open('chessData.csv', 'r') as file:\n",
    "\n",
    "        reader = csv.reader(file)\n",
    "\n",
    "        for row in reader:\n",
    "\n",
    "            if i != 0:\n",
    "                fen = row[0]\n",
    "                eval = int(row[1])\n",
    "\n",
    "                board = chess.Board(fen)\n",
    "                final_board = encode_board(board)\n",
    "                \n",
    "                a[i-1] = final_board\n",
    "                b[i-1] = eval\n",
    "\n",
    "            i += 1\n",
    "                \n",
    "            if i >= totalGames:\n",
    "                break\n",
    "        \n",
    "        np.savez(\"eval.npz\", boards = a, evaluations = b)\n",
    "\n",
    "database_creator()\n"
   ]
  }
 ],
 "metadata": {
  "kernelspec": {
   "display_name": "Python 3",
   "language": "python",
   "name": "python3"
  },
  "language_info": {
   "codemirror_mode": {
    "name": "ipython",
    "version": 3
   },
   "file_extension": ".py",
   "mimetype": "text/x-python",
   "name": "python",
   "nbconvert_exporter": "python",
   "pygments_lexer": "ipython3",
   "version": "3.10.0"
  },
  "orig_nbformat": 4,
  "vscode": {
   "interpreter": {
    "hash": "42b7a8269543bcb579cd7b7725932418ba11ca9773c942937c2bd4311fe78df7"
   }
  }
 },
 "nbformat": 4,
 "nbformat_minor": 2
}
