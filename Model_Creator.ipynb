{
 "cells": [
  {
   "cell_type": "code",
   "execution_count": 1,
   "metadata": {},
   "outputs": [],
   "source": [
    "import numpy as np\n",
    "import tensorflow as tf"
   ]
  },
  {
   "cell_type": "code",
   "execution_count": 4,
   "metadata": {},
   "outputs": [],
   "source": [
    "class ResNet:\n",
    "    def __init__(self, input_shape=(14, 8, 8), num_residual_blocks=10):\n",
    "        self.input_shape = input_shape\n",
    "        self.num_residual_blocks = num_residual_blocks\n",
    "        self.model = self.build_model()\n",
    "\n",
    "    def residual_block(self, x, filters):\n",
    "        y = tf.keras.layers.Conv2D(filters, (3, 3), padding='same')(x)\n",
    "        y = tf.keras.layers.BatchNormalization()(y)\n",
    "        y = tf.keras.layers.Activation('relu')(y)\n",
    "        y = tf.keras.layers.Conv2D(filters, (3, 3), padding='same')(y)\n",
    "        y = tf.keras.layers.BatchNormalization()(y)\n",
    "        y = tf.keras.layers.Add()([x, y])\n",
    "        y = tf.keras.layers.Activation('relu')(y)\n",
    "        return y\n",
    "\n",
    "    def build_model(self):\n",
    "        inputs = tf.keras.layers.Input(shape=self.input_shape)\n",
    "        x = tf.keras.layers.Conv2D(256, (3, 3), padding='same')(inputs)\n",
    "        x = tf.keras.layers.BatchNormalization()(x)\n",
    "        x = tf.keras.layers.Activation('relu')(x)\n",
    "\n",
    "        for i in range(self.num_residual_blocks):\n",
    "            x = self.residual_block(x, 256)\n",
    "\n",
    "        value = tf.keras.layers.Conv2D(1, (1, 1))(x)\n",
    "        value = tf.keras.layers.BatchNormalization()(value)\n",
    "        value = tf.keras.layers.Activation('relu')(value)\n",
    "        value = tf.keras.layers.Flatten()(value)\n",
    "        value = tf.keras.layers.Dense(256, activation='relu')(value)\n",
    "        value = tf.keras.layers.Dense(1, activation='linear', name='value')(value)  \n",
    "        model = tf.keras.models.Model(inputs=inputs, outputs=value)  \n",
    "        return model\n",
    "\n",
    "    def compile_model(self, learning_rate=0.001):\n",
    "        opt = tf.keras.optimizers.Adam(learning_rate=learning_rate)\n",
    "        self.model.compile(loss='mse', optimizer=opt)  # Using mean squared error for regression task\n",
    "\n",
    "    def train(self, X, y, epochs=10, batch_size=1):  # Only one output (y) for centipede value\n",
    "        self.model.fit(X, y, epochs=epochs, batch_size=batch_size)\n",
    "\n",
    "    def predict(self, test_data):\n",
    "        preds = self.model.predict(test_data)\n",
    "        return preds"
   ]
  },
  {
   "cell_type": "code",
   "execution_count": 10,
   "metadata": {},
   "outputs": [],
   "source": [
    "data = np.load(\"eval.npz\")\n",
    "boards = data[\"boards\"]\n",
    "evaluations = data[\"evaluations\"]"
   ]
  },
  {
   "cell_type": "code",
   "execution_count": 11,
   "metadata": {},
   "outputs": [],
   "source": [
    "resnet_model = ResNet(input_shape=(14, 8, 8), num_residual_blocks=10)"
   ]
  },
  {
   "cell_type": "code",
   "execution_count": 12,
   "metadata": {},
   "outputs": [],
   "source": [
    "resnet_model.compile_model()"
   ]
  },
  {
   "cell_type": "code",
   "execution_count": null,
   "metadata": {},
   "outputs": [],
   "source": [
    "resnet_model.train(boards, evaluations, epochs=10, batch_size=32)"
   ]
  }
 ],
 "metadata": {
  "kernelspec": {
   "display_name": "Python 3 (ipykernel)",
   "language": "python",
   "name": "python3"
  },
  "language_info": {
   "codemirror_mode": {
    "name": "ipython",
    "version": 3
   },
   "file_extension": ".py",
   "mimetype": "text/x-python",
   "name": "python",
   "nbconvert_exporter": "python",
   "pygments_lexer": "ipython3",
   "version": "3.10.0"
  },
  "vscode": {
   "interpreter": {
    "hash": "42b7a8269543bcb579cd7b7725932418ba11ca9773c942937c2bd4311fe78df7"
   }
  }
 },
 "nbformat": 4,
 "nbformat_minor": 2
}
